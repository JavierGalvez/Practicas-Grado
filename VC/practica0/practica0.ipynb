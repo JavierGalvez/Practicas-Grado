{
  "nbformat": 4,
  "nbformat_minor": 0,
  "metadata": {
    "colab": {
      "name": "practica0.ipynb",
      "provenance": [],
      "collapsed_sections": []
    },
    "kernelspec": {
      "name": "python3",
      "display_name": "Python 3"
    }
  },
  "cells": [
    {
      "cell_type": "code",
      "metadata": {
        "id": "e4tejjCR3-Qd"
      },
      "source": [
        "# Javier Gálvez Obispo\n",
        "\n",
        "from google.colab import drive\n",
        "drive.mount('/content/gdrive')\n",
        "#!ls '/content/gdrive/My Drive/imagenes'\n",
        "path = \"gdrive/My Drive/imagenes/\"\n",
        "\n",
        "import cv2\n",
        "# cv2.imshow no funciona en colab por lo que usaremos matplotlib en todos los ejercicios\n",
        "from matplotlib import pyplot as plt"
      ],
      "execution_count": null,
      "outputs": []
    },
    {
      "cell_type": "code",
      "metadata": {
        "id": "HbUy0jc64FKe"
      },
      "source": [
        "#%% Ejercicio 1\n",
        "\n",
        "# flagColor => 0 grises, 1 color\n",
        "def leeimagen(filename, flagColor):\n",
        "    img = cv2.imread(filename, flagColor)\n",
        "    # cv2.cvtColor(img, cv2.COLOR_BGR2RGB) convierte las imágenes BGR a RGB y las imágenes grises las deja igual\n",
        "    plt.imshow(cv2.cvtColor(img, cv2.COLOR_BGR2RGB))\n",
        "    plt.axis(\"off\"), plt.show() \n",
        "\n",
        "leeimagen(path + \"orapple.jpg\", 1) # ejemplo imagen con color\n",
        "leeimagen(path + \"messi.jpg\", 0) # ejemplo imagen de grises"
      ],
      "execution_count": null,
      "outputs": []
    },
    {
      "cell_type": "code",
      "metadata": {
        "id": "imnh2AZmTk1N"
      },
      "source": [
        "#%% Ejercicio 2\n",
        "\n",
        "def pintaI(im):\n",
        "    # Trasladamos y escalamos la imagen al rango [0, 1]\n",
        "    img_normalizada = cv2.normalize(im, None, alpha=0, beta=1, norm_type=cv2.NORM_MINMAX, dtype=cv2.CV_32F)\n",
        "    # cv2.cvtColor(img, cv2.COLOR_BGR2RGB) convierte las imágenes BGR a RGB y las imágenes grises las deja igual\n",
        "    plt.imshow(cv2.cvtColor(img_normalizada, cv2.COLOR_BGR2RGB))\n",
        "    plt.axis(\"off\"), plt.show() \n",
        "\n",
        "# Leemos y pintamos la imagen\n",
        "img = cv2.imread(path + \"orapple.jpg\", 1)\n",
        "pintaI(img)"
      ],
      "execution_count": null,
      "outputs": []
    },
    {
      "cell_type": "code",
      "metadata": {
        "id": "nmhp026ZW0lw"
      },
      "source": [
        "#%% Ejercicio 3\n",
        "\n",
        "def pintaMI(*vim):\n",
        "    for i, (img, titulo) in enumerate(vim, start=1):\n",
        "        # Concatenamos las imágenes hacia la derecha\n",
        "        plt.subplot(1, len(vim), i)\n",
        "        # cv2.cvtColor(img, cv2.COLOR_BGR2RGB) convierte las imágenes BGR a RGB y las imágenes grises las deja igual\n",
        "        plt.imshow(cv2.cvtColor(img, cv2.COLOR_BGR2RGB))\n",
        "        plt.axis(\"off\")\n",
        "        plt.title(titulo) # Ejercicio 5\n",
        "    plt.show()\n",
        "\n",
        "# Leemos las imágenes y las pintamos\n",
        "img1 = cv2.imread(path + \"orapple.jpg\", 1)\n",
        "img2 = cv2.imread(path + \"messi.jpg\", 0)\n",
        "pintaMI((img1, \"orapple\"), (img2, \"messi\"))"
      ],
      "execution_count": null,
      "outputs": []
    },
    {
      "cell_type": "code",
      "metadata": {
        "id": "Hc3umDxhXRgW"
      },
      "source": [
        "#%% Ejercicio 4\n",
        "\n",
        "def modificarI(img, pixels):\n",
        "    for px, py in pixels:\n",
        "        # Cuando la imagen tiene 3 canales / color\n",
        "        if len(img.shape) == 3:\n",
        "            for i in range(img[0][0].size):\n",
        "                img.itemset((px, py, i), 0)\n",
        "        # Cuando la imagen tiene 1 canal / grises\n",
        "        else:\n",
        "            img.itemset((px, py), 0)\n",
        "\n",
        "# Leemos las imágenes\n",
        "img_color = cv2.imread(path + \"orapple.jpg\", 1)\n",
        "img_gris = cv2.imread(path + \"orapple.jpg\", 0)\n",
        "\n",
        "# Las modificamos\n",
        "pixeles_a_cambiar = [(x, y) for y in range(100) for x in range(100)]\n",
        "modificarI(img_color, pixeles_a_cambiar)\n",
        "modificarI(img_gris, pixeles_a_cambiar)\n",
        "\n",
        "# Y pintamos\n",
        "pintaMI((img_color, \"Orapple color modificada\"), (img_gris, \"Orapple gris modificada\"))"
      ],
      "execution_count": null,
      "outputs": []
    }
  ]
}